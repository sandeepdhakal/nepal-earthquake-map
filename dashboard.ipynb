{
 "cells": [
  {
   "cell_type": "code",
   "execution_count": 4,
   "id": "a2107db1-9280-4ac1-b31f-d74bab93846b",
   "metadata": {},
   "outputs": [
    {
     "ename": "AttributeError",
     "evalue": "partially initialized module 'geoviews' has no attribute 'extension' (most likely due to a circular import)",
     "output_type": "error",
     "traceback": [
      "\u001b[0;31m---------------------------------------------------------------------------\u001b[0m",
      "\u001b[0;31mAttributeError\u001b[0m                            Traceback (most recent call last)",
      "Cell \u001b[0;32mIn[4], line 3\u001b[0m\n\u001b[1;32m      1\u001b[0m \u001b[38;5;28;01mimport\u001b[39;00m \u001b[38;5;21;01mcolorcet\u001b[39;00m \u001b[38;5;28;01mas\u001b[39;00m \u001b[38;5;21;01mcc\u001b[39;00m  \u001b[38;5;66;03m# noqa: F401\u001b[39;00m\n\u001b[1;32m      2\u001b[0m \u001b[38;5;28;01mimport\u001b[39;00m \u001b[38;5;21;01mgeopandas\u001b[39;00m \u001b[38;5;28;01mas\u001b[39;00m \u001b[38;5;21;01mgpd\u001b[39;00m\n\u001b[0;32m----> 3\u001b[0m \u001b[38;5;28;01mimport\u001b[39;00m \u001b[38;5;21;01mgeoviews\u001b[39;00m \u001b[38;5;28;01mas\u001b[39;00m \u001b[38;5;21;01mgv\u001b[39;00m\n\u001b[1;32m      4\u001b[0m \u001b[38;5;28;01mimport\u001b[39;00m \u001b[38;5;21;01mgeoviews\u001b[39;00m\u001b[38;5;21;01m.\u001b[39;00m\u001b[38;5;21;01mtile_sources\u001b[39;00m \u001b[38;5;28;01mas\u001b[39;00m \u001b[38;5;21;01mgvts\u001b[39;00m\n\u001b[1;32m      5\u001b[0m \u001b[38;5;28;01mimport\u001b[39;00m \u001b[38;5;21;01mholoviews\u001b[39;00m \u001b[38;5;28;01mas\u001b[39;00m \u001b[38;5;21;01mhv\u001b[39;00m\n",
      "File \u001b[0;32m~/projects/nepal-in-data/nepal-earthquakes/.venv/lib/python3.11/site-packages/geoviews/__init__.py:3\u001b[0m\n\u001b[1;32m      1\u001b[0m \u001b[38;5;28;01mimport\u001b[39;00m \u001b[38;5;21;01mparam\u001b[39;00m\n\u001b[0;32m----> 3\u001b[0m \u001b[38;5;28;01mfrom\u001b[39;00m \u001b[38;5;21;01mholoviews\u001b[39;00m \u001b[38;5;28;01mimport\u001b[39;00m (extension, help, opts, output, renderer, Store, \u001b[38;5;66;03m# noqa (API import)\u001b[39;00m\n\u001b[1;32m      4\u001b[0m                        Cycle, Palette, Overlay, Layout, NdOverlay, NdLayout,\n\u001b[1;32m      5\u001b[0m                        HoloMap, DynamicMap, GridSpace, Dimension, dim)\n\u001b[1;32m      7\u001b[0m \u001b[38;5;28;01mfrom\u001b[39;00m \u001b[38;5;21;01mholoviews\u001b[39;00m \u001b[38;5;28;01mimport\u001b[39;00m render, save \u001b[38;5;66;03m# noqa (API import)\u001b[39;00m\n\u001b[1;32m      9\u001b[0m \u001b[38;5;28;01mfrom\u001b[39;00m \u001b[38;5;21;01m.\u001b[39;00m\u001b[38;5;21;01melement\u001b[39;00m \u001b[38;5;28;01mimport\u001b[39;00m ( \u001b[38;5;66;03m# noqa (API import)\u001b[39;00m\n\u001b[1;32m     10\u001b[0m     _Element, Feature, Tiles, WMTS, LineContours, FilledContours,\n\u001b[1;32m     11\u001b[0m     Text, Image, ImageStack, Points, Path, Polygons, Shape, Dataset, RGB,\n\u001b[1;32m     12\u001b[0m     Contours, Graph, TriMesh, Nodes, EdgePaths, QuadMesh, VectorField,\n\u001b[1;32m     13\u001b[0m     HexTiles, Labels, Rectangles, Segments, WindBarbs\n\u001b[1;32m     14\u001b[0m )\n",
      "File \u001b[0;32m~/projects/nepal-in-data/nepal-earthquakes/.venv/lib/python3.11/site-packages/holoviews/__init__.py:123\u001b[0m\n\u001b[1;32m    119\u001b[0m warnings\u001b[38;5;241m.\u001b[39mfilterwarnings(\u001b[38;5;124m\"\u001b[39m\u001b[38;5;124mignore\u001b[39m\u001b[38;5;124m\"\u001b[39m,\n\u001b[1;32m    120\u001b[0m                         message\u001b[38;5;241m=\u001b[39m\u001b[38;5;124m\"\u001b[39m\u001b[38;5;124melementwise comparison failed; returning scalar instead\u001b[39m\u001b[38;5;124m\"\u001b[39m)\n\u001b[1;32m    122\u001b[0m \u001b[38;5;28;01mif\u001b[39;00m \u001b[38;5;124m\"\u001b[39m\u001b[38;5;124mIPython\u001b[39m\u001b[38;5;124m\"\u001b[39m \u001b[38;5;129;01min\u001b[39;00m sys\u001b[38;5;241m.\u001b[39mmodules:\n\u001b[0;32m--> 123\u001b[0m     \u001b[38;5;28;01mfrom\u001b[39;00m \u001b[38;5;21;01m.\u001b[39;00m\u001b[38;5;21;01mipython\u001b[39;00m \u001b[38;5;28;01mimport\u001b[39;00m notebook_extension\n\u001b[1;32m    124\u001b[0m     extension \u001b[38;5;241m=\u001b[39m notebook_extension\n\u001b[1;32m    125\u001b[0m \u001b[38;5;28;01melse\u001b[39;00m:\n",
      "File \u001b[0;32m~/projects/nepal-in-data/nepal-earthquakes/.venv/lib/python3.11/site-packages/holoviews/ipython/__init__.py:15\u001b[0m\n\u001b[1;32m     13\u001b[0m \u001b[38;5;28;01mfrom\u001b[39;00m \u001b[38;5;21;01m.\u001b[39;00m\u001b[38;5;21;01m.\u001b[39;00m\u001b[38;5;21;01mcore\u001b[39;00m\u001b[38;5;21;01m.\u001b[39;00m\u001b[38;5;21;01mtree\u001b[39;00m \u001b[38;5;28;01mimport\u001b[39;00m AttrTree\n\u001b[1;32m     14\u001b[0m \u001b[38;5;28;01mfrom\u001b[39;00m \u001b[38;5;21;01m.\u001b[39;00m\u001b[38;5;21;01m.\u001b[39;00m\u001b[38;5;21;01melement\u001b[39;00m\u001b[38;5;21;01m.\u001b[39;00m\u001b[38;5;21;01mcomparison\u001b[39;00m \u001b[38;5;28;01mimport\u001b[39;00m ComparisonTestCase\n\u001b[0;32m---> 15\u001b[0m \u001b[38;5;28;01mfrom\u001b[39;00m \u001b[38;5;21;01m.\u001b[39;00m\u001b[38;5;21;01m.\u001b[39;00m\u001b[38;5;21;01mplotting\u001b[39;00m\u001b[38;5;21;01m.\u001b[39;00m\u001b[38;5;21;01mrenderer\u001b[39;00m \u001b[38;5;28;01mimport\u001b[39;00m Renderer\n\u001b[1;32m     16\u001b[0m \u001b[38;5;28;01mfrom\u001b[39;00m \u001b[38;5;21;01m.\u001b[39;00m\u001b[38;5;21;01m.\u001b[39;00m\u001b[38;5;21;01mutil\u001b[39;00m \u001b[38;5;28;01mimport\u001b[39;00m extension\n\u001b[1;32m     17\u001b[0m \u001b[38;5;28;01mfrom\u001b[39;00m \u001b[38;5;21;01m.\u001b[39;00m\u001b[38;5;21;01mdisplay_hooks\u001b[39;00m \u001b[38;5;28;01mimport\u001b[39;00m display, png_display, pprint_display, svg_display\n",
      "File \u001b[0;32m~/projects/nepal-in-data/nepal-earthquakes/.venv/lib/python3.11/site-packages/holoviews/plotting/__init__.py:12\u001b[0m\n\u001b[1;32m     10\u001b[0m \u001b[38;5;28;01mfrom\u001b[39;00m \u001b[38;5;21;01m.\u001b[39;00m\u001b[38;5;21;01m.\u001b[39;00m\u001b[38;5;21;01melement\u001b[39;00m\u001b[38;5;21;01m.\u001b[39;00m\u001b[38;5;21;01msankey\u001b[39;00m \u001b[38;5;28;01mimport\u001b[39;00m Sankey, _layout_sankey\n\u001b[1;32m     11\u001b[0m \u001b[38;5;28;01mfrom\u001b[39;00m \u001b[38;5;21;01m.\u001b[39;00m\u001b[38;5;21;01m.\u001b[39;00m\u001b[38;5;21;01moperation\u001b[39;00m\u001b[38;5;21;01m.\u001b[39;00m\u001b[38;5;21;01mstats\u001b[39;00m \u001b[38;5;28;01mimport\u001b[39;00m bivariate_kde, univariate_kde\n\u001b[0;32m---> 12\u001b[0m \u001b[38;5;28;01mfrom\u001b[39;00m \u001b[38;5;21;01m.\u001b[39;00m\u001b[38;5;21;01mplot\u001b[39;00m \u001b[38;5;28;01mimport\u001b[39;00m Plot\n\u001b[1;32m     13\u001b[0m \u001b[38;5;28;01mfrom\u001b[39;00m \u001b[38;5;21;01m.\u001b[39;00m\u001b[38;5;21;01mrenderer\u001b[39;00m \u001b[38;5;28;01mimport\u001b[39;00m HTML_TAGS, Renderer  \u001b[38;5;66;03m# noqa (API import)\u001b[39;00m\n\u001b[1;32m     14\u001b[0m \u001b[38;5;28;01mfrom\u001b[39;00m \u001b[38;5;21;01m.\u001b[39;00m\u001b[38;5;21;01mutil\u001b[39;00m \u001b[38;5;28;01mimport\u001b[39;00m apply_nodata, flatten_stack, list_cmaps  \u001b[38;5;66;03m# noqa (API import)\u001b[39;00m\n",
      "File \u001b[0;32m~/projects/nepal-in-data/nepal-earthquakes/.venv/lib/python3.11/site-packages/holoviews/plotting/plot.py:15\u001b[0m\n\u001b[1;32m     13\u001b[0m \u001b[38;5;28;01mimport\u001b[39;00m \u001b[38;5;21;01mnumpy\u001b[39;00m \u001b[38;5;28;01mas\u001b[39;00m \u001b[38;5;21;01mnp\u001b[39;00m\n\u001b[1;32m     14\u001b[0m \u001b[38;5;28;01mimport\u001b[39;00m \u001b[38;5;21;01mparam\u001b[39;00m\n\u001b[0;32m---> 15\u001b[0m \u001b[38;5;28;01mfrom\u001b[39;00m \u001b[38;5;21;01mpanel\u001b[39;00m\u001b[38;5;21;01m.\u001b[39;00m\u001b[38;5;21;01mconfig\u001b[39;00m \u001b[38;5;28;01mimport\u001b[39;00m config\n\u001b[1;32m     16\u001b[0m \u001b[38;5;28;01mfrom\u001b[39;00m \u001b[38;5;21;01mpanel\u001b[39;00m\u001b[38;5;21;01m.\u001b[39;00m\u001b[38;5;21;01mio\u001b[39;00m\u001b[38;5;21;01m.\u001b[39;00m\u001b[38;5;21;01mdocument\u001b[39;00m \u001b[38;5;28;01mimport\u001b[39;00m unlocked\n\u001b[1;32m     17\u001b[0m \u001b[38;5;28;01mfrom\u001b[39;00m \u001b[38;5;21;01mpanel\u001b[39;00m\u001b[38;5;21;01m.\u001b[39;00m\u001b[38;5;21;01mio\u001b[39;00m\u001b[38;5;21;01m.\u001b[39;00m\u001b[38;5;21;01mnotebook\u001b[39;00m \u001b[38;5;28;01mimport\u001b[39;00m push\n",
      "File \u001b[0;32m~/projects/nepal-in-data/nepal-earthquakes/panel.py:28\u001b[0m\n\u001b[1;32m     25\u001b[0m \u001b[38;5;28;01mfrom\u001b[39;00m \u001b[38;5;21;01mbokeh\u001b[39;00m\u001b[38;5;21;01m.\u001b[39;00m\u001b[38;5;21;01mmodels\u001b[39;00m\u001b[38;5;21;01m.\u001b[39;00m\u001b[38;5;21;01mwidgets\u001b[39;00m\u001b[38;5;21;01m.\u001b[39;00m\u001b[38;5;21;01mtables\u001b[39;00m \u001b[38;5;28;01mimport\u001b[39;00m NumberFormatter\n\u001b[1;32m     27\u001b[0m \u001b[38;5;66;03m# %%\u001b[39;00m\n\u001b[0;32m---> 28\u001b[0m \u001b[43mgv\u001b[49m\u001b[38;5;241;43m.\u001b[39;49m\u001b[43mextension\u001b[49m(\u001b[38;5;124m\"\u001b[39m\u001b[38;5;124mbokeh\u001b[39m\u001b[38;5;124m\"\u001b[39m)\n\u001b[1;32m     29\u001b[0m hv\u001b[38;5;241m.\u001b[39mextension(\u001b[38;5;124m\"\u001b[39m\u001b[38;5;124mbokeh\u001b[39m\u001b[38;5;124m\"\u001b[39m)\n\u001b[1;32m     30\u001b[0m pn\u001b[38;5;241m.\u001b[39mextension(\u001b[38;5;124m\"\u001b[39m\u001b[38;5;124mtabulator\u001b[39m\u001b[38;5;124m\"\u001b[39m)\n",
      "\u001b[0;31mAttributeError\u001b[0m: partially initialized module 'geoviews' has no attribute 'extension' (most likely due to a circular import)"
     ]
    }
   ],
   "source": [
    "import colorcet as cc  # noqa: F401\n",
    "import geopandas as gpd\n",
    "import geoviews as gv\n",
    "import geoviews.tile_sources as gvts\n",
    "import holoviews as hv\n",
    "import pandas as pd\n",
    "import panel as pn\n",
    "\n",
    "from bokeh.models.widgets.tables import NumberFormatter"
   ]
  },
  {
   "cell_type": "code",
   "execution_count": 3,
   "id": "a8976d2a-4c68-40bc-827d-61325e88bcd9",
   "metadata": {},
   "outputs": [
    {
     "ename": "NameError",
     "evalue": "name 'hv' is not defined",
     "output_type": "error",
     "traceback": [
      "\u001b[0;31m---------------------------------------------------------------------------\u001b[0m",
      "\u001b[0;31mNameError\u001b[0m                                 Traceback (most recent call last)",
      "Cell \u001b[0;32mIn[3], line 2\u001b[0m\n\u001b[1;32m      1\u001b[0m \u001b[38;5;66;03m# gv.extension(\"bokeh\")\u001b[39;00m\n\u001b[0;32m----> 2\u001b[0m \u001b[43mhv\u001b[49m\u001b[38;5;241m.\u001b[39mextension(\u001b[38;5;124m\"\u001b[39m\u001b[38;5;124mbokeh\u001b[39m\u001b[38;5;124m\"\u001b[39m)\n\u001b[1;32m      3\u001b[0m pn\u001b[38;5;241m.\u001b[39mextension(\u001b[38;5;124m\"\u001b[39m\u001b[38;5;124mtabulator\u001b[39m\u001b[38;5;124m\"\u001b[39m)\n",
      "\u001b[0;31mNameError\u001b[0m: name 'hv' is not defined"
     ]
    }
   ],
   "source": [
    "# gv.extension(\"bokeh\")\n",
    "hv.extension(\"bokeh\")\n",
    "pn.extension(\"tabulator\")"
   ]
  },
  {
   "cell_type": "code",
   "execution_count": null,
   "id": "e65c5d51-44d6-4f02-a0d7-3332f3b3fb58",
   "metadata": {},
   "outputs": [],
   "source": [
    "nepal = gpd.read_parquet(\"data/nepal.parq\")\n",
    "quakes = gpd.read_parquet(\"data/quakes.parq\")"
   ]
  },
  {
   "cell_type": "code",
   "execution_count": null,
   "id": "f0f490b3-790e-4fe9-af3d-945ec859b48f",
   "metadata": {},
   "outputs": [],
   "source": [
    "last_date = quakes.index.max().date()\n",
    "earliest_date = quakes.index.min().date()\n",
    "date_slider = pn.widgets.DateRangeSlider(\n",
    "    name=\"Date Range\",\n",
    "    start=earliest_date,\n",
    "    end=last_date,\n",
    "    value=(earliest_date, last_date),\n",
    "    width=800,\n",
    ")\n",
    "\n",
    "hover_tooltips = [\n",
    "    (\"Date\", \"@{time}{%F}\"),\n",
    "    (\"Magnitude: \", \"@mag\"),\n",
    "    (\"Depth: \", \"@depth kms\"),\n",
    "]\n",
    "\n",
    "mag_range = (quakes[\"mag\"].min(), quakes[\"mag\"].max())\n",
    "\n",
    "\n",
    "def plot_quakes(date_range):\n",
    "    dates = [pd.Timestamp(x, tz=\"UTC\") for x in date_range]\n",
    "    data = quakes.loc[dates[0] : dates[1]]\n",
    "    quake_table.value = data[[\"mag\", \"depth\", \"latitude\", \"longitude\"]]\n",
    "    return (\n",
    "        gv.Points(\n",
    "            data,\n",
    "            kdims=[\"longitude\", \"latitude\"],\n",
    "            vdims=[\"mag\", \"depth\", \"time\"],\n",
    "        )\n",
    "        .opts(hover_tooltips=hover_tooltips)\n",
    "        .redim.range(mag=mag_range)\n",
    "    )\n",
    "\n",
    "\n",
    "quake_points = pn.bind(plot_quakes, date_range=date_slider)\n",
    "points = hv.DynamicMap(quake_points)\n",
    "\n",
    "quake_table = pn.widgets.Tabulator(\n",
    "    quakes[[\"mag\", \"depth\", \"latitude\", \"longitude\"]],\n",
    "    show_index=True,\n",
    "    selectable=False,\n",
    "    sortable={\n",
    "        \"mag\": True,\n",
    "        \"depth\": True,\n",
    "        \"longitude\": False,\n",
    "        \"latitude\": False,\n",
    "    },\n",
    "    formatters={\n",
    "        \"mag\": NumberFormatter(format=\"0.00\"),\n",
    "        \"depth\": NumberFormatter(format=\"0.00\"),\n",
    "        \"longitude\": NumberFormatter(format=\"0.00\"),\n",
    "        \"latitude\": NumberFormatter(format=\"0.00\"),\n",
    "    },\n",
    "    editors={\"mag\": None, \"depth\": None, \"longitude\": None, \"latitude\": None},\n",
    "    titles={\n",
    "        \"mag\": \"Magnitude\",\n",
    "        \"depth\": \"Depth (km)\",\n",
    "        \"longitude\": \"Longitude\",\n",
    "        \"latitude\": \"Latitude\",\n",
    "    },\n",
    ")\n",
    "\n",
    "map = gv.Polygons(nepal, vdims=[])\n",
    "\n",
    "point_layout = pn.Column(\n",
    "    gvts.CartoLight\n",
    "    * map.opts(\n",
    "        alpha=0.1,\n",
    "        width=800,\n",
    "        height=500,\n",
    "        xaxis=None,\n",
    "        yaxis=None,\n",
    "        active_tools=[\"pan\", \"wheel_zoom\"],\n",
    "        default_tools=[\"pan\", \"wheel_zoom\", \"hover\"],\n",
    "    )\n",
    "    * points.opts(\n",
    "        size=(2 ** gv.dim(\"mag\")) / 4,\n",
    "        cmap=\"OrRd\",\n",
    "        tools=[\"hover\"],\n",
    "        toolbar=\"above\",\n",
    "        hover_tooltips=hover_tooltips,\n",
    "        color=\"mag\",\n",
    "        colorbar=True,\n",
    "    ),\n",
    "    date_slider,\n",
    ")\n",
    "\n",
    "table_layout = pn.Column(quake_table)\n",
    "app = pn.FlexBox(point_layout, table_layout, sizing_mode=\"stretch_both\")"
   ]
  },
  {
   "cell_type": "code",
   "execution_count": null,
   "id": "2afe891e",
   "metadata": {},
   "outputs": [],
   "source": [
    "app.servable()"
   ]
  }
 ],
 "metadata": {
  "kernelspec": {
   "display_name": "NepQuakes",
   "language": "python",
   "name": "nep-quakes"
  },
  "language_info": {
   "codemirror_mode": {
    "name": "ipython",
    "version": 3
   },
   "file_extension": ".py",
   "mimetype": "text/x-python",
   "name": "python",
   "nbconvert_exporter": "python",
   "pygments_lexer": "ipython3",
   "version": "3.11.9"
  }
 },
 "nbformat": 4,
 "nbformat_minor": 5
}
